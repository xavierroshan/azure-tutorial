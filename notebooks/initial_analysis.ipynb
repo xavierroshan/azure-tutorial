{
 "cells": [
  {
   "cell_type": "code",
   "execution_count": null,
   "id": "fdc2d5c1",
   "metadata": {},
   "outputs": [],
   "source": [
    "print(\"i am roshan\")"
   ]
  }
 ],
 "metadata": {
  "kernelspec": {
   "display_name": "venv",
   "language": "python",
   "name": "python3"
  },
  "language_info": {
   "name": "python",
   "version": "3.12.3"
  }
 },
 "nbformat": 4,
 "nbformat_minor": 5
}
